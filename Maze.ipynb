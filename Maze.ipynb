{
 "cells": [
  {
   "cell_type": "code",
   "execution_count": 1,
   "metadata": {},
   "outputs": [],
   "source": [
    "import random\n",
    "from collections import deque, namedtuple"
   ]
  },
  {
   "cell_type": "code",
   "execution_count": 2,
   "metadata": {},
   "outputs": [],
   "source": [
    "# https://nbviewer.jupyter.org/github/norvig/pytudes/blob/master/ipynb/Maze.ipynb\n",
    "def Edge(node1, node2): return tuple(sorted([node1, node2]))\n",
    "\n",
    "def random_tree(nodes: set, neighbors: callable, pop: callable) -> [Edge]:\n",
    "    \"Repeat: pop a node and add Edge(node, nbr) until all nodes have been added to tree.\"\n",
    "    tree = []\n",
    "    root = nodes.pop()\n",
    "    frontier = deque([root])\n",
    "    while nodes:\n",
    "        node = pop(frontier)\n",
    "        nbrs = neighbors(node) & nodes\n",
    "        if nbrs:\n",
    "            nbr = random.choice(list(nbrs))\n",
    "            tree.append(Edge(node, nbr))\n",
    "            nodes.remove(nbr)\n",
    "            frontier.extend([node, nbr])\n",
    "    return tree"
   ]
  },
  {
   "cell_type": "code",
   "execution_count": 3,
   "metadata": {},
   "outputs": [],
   "source": [
    "Maze = namedtuple('Maze', 'width, height, edges')\n",
    "\n",
    "def neighbors4(square):\n",
    "    \"The 4 neighbors of an (x, y) square.\"\n",
    "    (x, y) = square\n",
    "    return {(x + 1, y), (x - 1, y), (x, y + 1), (x, y - 1)}\n",
    "\n",
    "def squares(width, height): \n",
    "    \"All squares in a grid of these dimensions.\"\n",
    "    return {(x, y) for x in range(width) for y in range(height)}\n",
    "\n",
    "def random_maze(width, height, pop=deque.pop):\n",
    "    \"Use random_tree to generate a random maze.\"\n",
    "    nodes = squares(width, height)\n",
    "    tree = random_tree(nodes, neighbors4, pop)\n",
    "    return Maze(width, height, tree)  "
   ]
  },
  {
   "cell_type": "code",
   "execution_count": 4,
   "metadata": {},
   "outputs": [
    {
     "data": {
      "text/plain": [
       "Maze(width=10, height=5, edges=[((6, 3), (7, 3)), ((6, 2), (6, 3)), ((6, 1), (6, 2)), ((5, 1), (6, 1)), ((5, 0), (5, 1)), ((4, 0), (5, 0)), ((4, 0), (4, 1)), ((3, 1), (4, 1)), ((3, 0), (3, 1)), ((2, 0), (3, 0)), ((2, 0), (2, 1)), ((1, 1), (2, 1)), ((1, 0), (1, 1)), ((0, 0), (1, 0)), ((0, 0), (0, 1)), ((0, 1), (0, 2)), ((0, 2), (0, 3)), ((0, 3), (1, 3)), ((1, 2), (1, 3)), ((1, 2), (2, 2)), ((2, 2), (3, 2)), ((3, 2), (3, 3)), ((3, 3), (4, 3)), ((4, 3), (4, 4)), ((3, 4), (4, 4)), ((2, 4), (3, 4)), ((1, 4), (2, 4)), ((0, 4), (1, 4)), ((2, 3), (2, 4)), ((4, 4), (5, 4)), ((5, 4), (6, 4)), ((6, 4), (7, 4)), ((7, 4), (8, 4)), ((8, 4), (9, 4)), ((9, 3), (9, 4)), ((9, 2), (9, 3)), ((8, 2), (9, 2)), ((7, 2), (8, 2)), ((7, 1), (7, 2)), ((7, 1), (8, 1)), ((8, 0), (8, 1)), ((7, 0), (8, 0)), ((6, 0), (7, 0)), ((8, 0), (9, 0)), ((9, 0), (9, 1)), ((8, 2), (8, 3)), ((5, 3), (5, 4)), ((5, 2), (5, 3)), ((4, 2), (5, 2))])"
      ]
     },
     "execution_count": 4,
     "metadata": {},
     "output_type": "execute_result"
    }
   ],
   "source": [
    "random_maze(10,5)"
   ]
  },
  {
   "cell_type": "code",
   "execution_count": 5,
   "metadata": {},
   "outputs": [
    {
     "name": "stdout",
     "output_type": "stream",
     "text": [
      "o  o--o--o--o--o--o--o--o--o--o\n",
      "|  |              |           |\n",
      "o  o  o--o--o--o  o  o--o  o  o\n",
      "|  |           |     |  |  |  |\n",
      "o  o--o--o--o  o--o--o  o  o--o\n",
      "|  |        |  |        |     |\n",
      "o  o  o--o  o  o  o--o--o  o  o\n",
      "|     |  |  |     |     |  |  |\n",
      "o  o--o  o  o--o  o  o--o--o  o\n",
      "|        |        |           |\n",
      "o--o--o--o--o--o--o--o--o--o  o\n"
     ]
    }
   ],
   "source": [
    "def print_maze(maze, dot='o', lin='--', bar='|', sp='  '):\n",
    "    \"Print maze in ASCII.\"\n",
    "    exit = Edge((maze.width-1, maze.height-1), (maze.width-1, maze.height))\n",
    "    edges = set(maze.edges) | {exit}\n",
    "    print(dot + sp + lin.join(dot * maze.width)) # Top line, including entrance\n",
    "    def vert_wall(x, y): return (' ' if Edge((x, y), (x+1, y)) in edges else bar)\n",
    "    def horz_wall(x, y): return (sp  if Edge((x, y), (x, y+1)) in edges else lin)\n",
    "    for y in range(maze.height):\n",
    "        print(bar + cat(sp + vert_wall(x, y) for x in range(maze.width)))\n",
    "        print(dot + cat(horz_wall(x, y) + dot for x in range(maze.width)))\n",
    "        \n",
    "cat = ''.join\n",
    "        \n",
    "print_maze(random_maze(10, 5))"
   ]
  },
  {
   "cell_type": "code",
   "execution_count": 6,
   "metadata": {},
   "outputs": [],
   "source": [
    "%matplotlib inline\n",
    "import matplotlib.pyplot as plt\n",
    "\n",
    "def plot_maze(maze):\n",
    "    \"Plot a maze by drawing lines between adjacent squares, except for pairs in maze.edges\"\n",
    "    plt.figure(figsize=(8, 4))\n",
    "    plt.axis('off')\n",
    "    plt.gca().invert_yaxis()\n",
    "    w, h  = maze.width, maze.height\n",
    "    exits = {Edge((0, 0), (0, -1)), Edge((w-1, h-1), (w-1, h))}\n",
    "    edges = set(maze.edges) | exits\n",
    "    for sq in squares(w, h):\n",
    "        for nbr in neighbors4(sq):\n",
    "            if Edge(sq, nbr) not in edges:\n",
    "                plot_wall(sq, nbr)\n",
    "    plt.show()\n",
    "\n",
    "def plot_wall(s1, s2):\n",
    "    \"Plot a thick black line between squares s1 and s2.\"\n",
    "    (x1, y1), (x2, y2) = s1, s2\n",
    "    if x1 == x2: # horizontal wall\n",
    "        y = max(y1, y2)\n",
    "        X, Y = [x1, x1+1], [y, y]\n",
    "    else: # vertical wall\n",
    "        x = max(x1, x2)\n",
    "        X, Y = [x, x], [y1, y1+1]\n",
    "    plt.plot(X, Y, 'k-', linewidth=4.0)"
   ]
  },
  {
   "cell_type": "code",
   "execution_count": 7,
   "metadata": {},
   "outputs": [
    {
     "data": {
      "image/png": "[encoded data removed]",
      "text/plain": [
       "<Figure size 576x288 with 1 Axes>"
      ]
     },
     "metadata": {
      "needs_background": "light"
     },
     "output_type": "display_data"
    },
    {
     "name": "stdout",
     "output_type": "stream",
     "text": [
      "o  o--o--o--o--o--o--o--o--o--o\n",
      "|  |                       |  |\n",
      "o  o  o--o--o  o--o--o--o  o  o\n",
      "|  |     |  |  |        |  |  |\n",
      "o  o--o  o  o  o--o  o  o  o  o\n",
      "|  |     |  |     |  |        |\n",
      "o  o  o--o  o--o  o--o--o--o  o\n",
      "|     |     |  |  |     |     |\n",
      "o  o--o  o  o  o  o  o--o  o--o\n",
      "|        |     |     |        |\n",
      "o--o--o--o--o--o--o--o--o--o  o\n"
     ]
    }
   ],
   "source": [
    "M = random_maze(10, 5)\n",
    "plot_maze(M)  \n",
    "print_maze(M)"
   ]
  },
  {
   "cell_type": "code",
   "execution_count": 8,
   "metadata": {},
   "outputs": [
    {
     "data": {
      "image/png": "[encoded data removed]",
      "text/plain": [
       "<Figure size 576x288 with 1 Axes>"
      ]
     },
     "metadata": {
      "needs_background": "light"
     },
     "output_type": "display_data"
    }
   ],
   "source": [
    "plot_maze(random_maze(40, 20, deque.pop))"
   ]
  },
  {
   "cell_type": "code",
   "execution_count": 9,
   "metadata": {},
   "outputs": [
    {
     "data": {
      "image/png": "[encoded data removed]",
      "text/plain": [
       "<Figure size 576x288 with 1 Axes>"
      ]
     },
     "metadata": {
      "needs_background": "light"
     },
     "output_type": "display_data"
    }
   ],
   "source": [
    "plot_maze(random_maze(40, 20, deque.popleft))"
   ]
  },
  {
   "cell_type": "code",
   "execution_count": 10,
   "metadata": {
    "scrolled": true
   },
   "outputs": [
    {
     "data": {
      "image/png": "[encoded data removed]",
      "text/plain": [
       "<Figure size 576x288 with 1 Axes>"
      ]
     },
     "metadata": {
      "needs_background": "light"
     },
     "output_type": "display_data"
    }
   ],
   "source": [
    "def poprandom(seq):\n",
    "    \"Shuffle a mutable sequence (deque or list) and then pop an element.\"\n",
    "    random.shuffle(seq)\n",
    "    return seq.pop()\n",
    "\n",
    "plot_maze(random_maze(40, 20, poprandom))"
   ]
  },
  {
   "cell_type": "code",
   "execution_count": null,
   "metadata": {},
   "outputs": [],
   "source": []
  }
 ],
 "metadata": {
  "kernelspec": {
   "display_name": "Python 3",
   "language": "python",
   "name": "python3"
  },
  "language_info": {
   "codemirror_mode": {
    "name": "ipython",
    "version": 3
   },
   "file_extension": ".py",
   "mimetype": "text/x-python",
   "name": "python",
   "nbconvert_exporter": "python",
   "pygments_lexer": "ipython3",
   "version": "3.7.2"
  }
 },
 "nbformat": 4,
 "nbformat_minor": 2
}
